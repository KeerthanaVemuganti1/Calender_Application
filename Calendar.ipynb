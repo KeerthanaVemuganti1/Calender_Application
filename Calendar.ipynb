{
 "cells": [
  {
   "cell_type": "code",
   "execution_count": 7,
   "id": "543ef8bb",
   "metadata": {},
   "outputs": [
    {
     "name": "stdout",
     "output_type": "stream",
     "text": [
      "Requirement already satisfied: ipywidgets in c:\\users\\chigu\\appdata\\local\\packages\\pythonsoftwarefoundation.python.3.10_qbz5n2kfra8p0\\localcache\\local-packages\\python310\\site-packages (8.0.2)\n",
      "Requirement already satisfied: pytz in c:\\users\\chigu\\appdata\\local\\packages\\pythonsoftwarefoundation.python.3.10_qbz5n2kfra8p0\\localcache\\local-packages\\python310\\site-packages (2022.7.1)\n",
      "Requirement already satisfied: ipykernel>=4.5.1 in c:\\users\\chigu\\appdata\\local\\packages\\pythonsoftwarefoundation.python.3.10_qbz5n2kfra8p0\\localcache\\local-packages\\python310\\site-packages (from ipywidgets) (6.15.3)\n",
      "Requirement already satisfied: ipython>=6.1.0 in c:\\users\\chigu\\appdata\\local\\packages\\pythonsoftwarefoundation.python.3.10_qbz5n2kfra8p0\\localcache\\local-packages\\python310\\site-packages (from ipywidgets) (8.5.0)\n",
      "Requirement already satisfied: traitlets>=4.3.1 in c:\\users\\chigu\\appdata\\local\\packages\\pythonsoftwarefoundation.python.3.10_qbz5n2kfra8p0\\localcache\\local-packages\\python310\\site-packages (from ipywidgets) (5.4.0)\n",
      "Requirement already satisfied: widgetsnbextension~=4.0 in c:\\users\\chigu\\appdata\\local\\packages\\pythonsoftwarefoundation.python.3.10_qbz5n2kfra8p0\\localcache\\local-packages\\python310\\site-packages (from ipywidgets) (4.0.3)\n",
      "Requirement already satisfied: jupyterlab-widgets~=3.0 in c:\\users\\chigu\\appdata\\local\\packages\\pythonsoftwarefoundation.python.3.10_qbz5n2kfra8p0\\localcache\\local-packages\\python310\\site-packages (from ipywidgets) (3.0.3)\n",
      "Requirement already satisfied: debugpy>=1.0 in c:\\users\\chigu\\appdata\\local\\packages\\pythonsoftwarefoundation.python.3.10_qbz5n2kfra8p0\\localcache\\local-packages\\python310\\site-packages (from ipykernel>=4.5.1->ipywidgets) (1.6.3)\n",
      "Requirement already satisfied: jupyter-client>=6.1.12 in c:\\users\\chigu\\appdata\\local\\packages\\pythonsoftwarefoundation.python.3.10_qbz5n2kfra8p0\\localcache\\local-packages\\python310\\site-packages (from ipykernel>=4.5.1->ipywidgets) (7.3.5)\n",
      "Requirement already satisfied: matplotlib-inline>=0.1 in c:\\users\\chigu\\appdata\\local\\packages\\pythonsoftwarefoundation.python.3.10_qbz5n2kfra8p0\\localcache\\local-packages\\python310\\site-packages (from ipykernel>=4.5.1->ipywidgets) (0.1.6)\n",
      "Requirement already satisfied: nest-asyncio in c:\\users\\chigu\\appdata\\local\\packages\\pythonsoftwarefoundation.python.3.10_qbz5n2kfra8p0\\localcache\\local-packages\\python310\\site-packages (from ipykernel>=4.5.1->ipywidgets) (1.5.5)\n",
      "Requirement already satisfied: packaging in c:\\users\\chigu\\appdata\\local\\packages\\pythonsoftwarefoundation.python.3.10_qbz5n2kfra8p0\\localcache\\local-packages\\python310\\site-packages (from ipykernel>=4.5.1->ipywidgets) (21.3)\n",
      "Requirement already satisfied: psutil in c:\\users\\chigu\\appdata\\local\\packages\\pythonsoftwarefoundation.python.3.10_qbz5n2kfra8p0\\localcache\\local-packages\\python310\\site-packages (from ipykernel>=4.5.1->ipywidgets) (5.9.2)\n",
      "Requirement already satisfied: pyzmq>=17 in c:\\users\\chigu\\appdata\\local\\packages\\pythonsoftwarefoundation.python.3.10_qbz5n2kfra8p0\\localcache\\local-packages\\python310\\site-packages (from ipykernel>=4.5.1->ipywidgets) (24.0.1)\n",
      "Requirement already satisfied: tornado>=6.1 in c:\\users\\chigu\\appdata\\local\\packages\\pythonsoftwarefoundation.python.3.10_qbz5n2kfra8p0\\localcache\\local-packages\\python310\\site-packages (from ipykernel>=4.5.1->ipywidgets) (6.2)\n",
      "Requirement already satisfied: backcall in c:\\users\\chigu\\appdata\\local\\packages\\pythonsoftwarefoundation.python.3.10_qbz5n2kfra8p0\\localcache\\local-packages\\python310\\site-packages (from ipython>=6.1.0->ipywidgets) (0.2.0)\n",
      "Requirement already satisfied: decorator in c:\\users\\chigu\\appdata\\local\\packages\\pythonsoftwarefoundation.python.3.10_qbz5n2kfra8p0\\localcache\\local-packages\\python310\\site-packages (from ipython>=6.1.0->ipywidgets) (5.1.1)\n",
      "Requirement already satisfied: jedi>=0.16 in c:\\users\\chigu\\appdata\\local\\packages\\pythonsoftwarefoundation.python.3.10_qbz5n2kfra8p0\\localcache\\local-packages\\python310\\site-packages (from ipython>=6.1.0->ipywidgets) (0.18.1)\n",
      "Requirement already satisfied: pickleshare in c:\\users\\chigu\\appdata\\local\\packages\\pythonsoftwarefoundation.python.3.10_qbz5n2kfra8p0\\localcache\\local-packages\\python310\\site-packages (from ipython>=6.1.0->ipywidgets) (0.7.5)\n",
      "Requirement already satisfied: prompt-toolkit<3.1.0,>3.0.1 in c:\\users\\chigu\\appdata\\local\\packages\\pythonsoftwarefoundation.python.3.10_qbz5n2kfra8p0\\localcache\\local-packages\\python310\\site-packages (from ipython>=6.1.0->ipywidgets) (3.0.31)\n",
      "Requirement already satisfied: pygments>=2.4.0 in c:\\users\\chigu\\appdata\\local\\packages\\pythonsoftwarefoundation.python.3.10_qbz5n2kfra8p0\\localcache\\local-packages\\python310\\site-packages (from ipython>=6.1.0->ipywidgets) (2.13.0)\n",
      "Requirement already satisfied: stack-data in c:\\users\\chigu\\appdata\\local\\packages\\pythonsoftwarefoundation.python.3.10_qbz5n2kfra8p0\\localcache\\local-packages\\python310\\site-packages (from ipython>=6.1.0->ipywidgets) (0.5.1)\n",
      "Requirement already satisfied: colorama in c:\\users\\chigu\\appdata\\local\\packages\\pythonsoftwarefoundation.python.3.10_qbz5n2kfra8p0\\localcache\\local-packages\\python310\\site-packages (from ipython>=6.1.0->ipywidgets) (0.4.5)\n",
      "Requirement already satisfied: wcwidth in c:\\users\\chigu\\appdata\\local\\packages\\pythonsoftwarefoundation.python.3.10_qbz5n2kfra8p0\\localcache\\local-packages\\python310\\site-packages (from prompt-toolkit<3.1.0,>3.0.1->ipython>=6.1.0->ipywidgets) (0.2.5)\n",
      "Requirement already satisfied: parso<0.9.0,>=0.8.0 in c:\\users\\chigu\\appdata\\local\\packages\\pythonsoftwarefoundation.python.3.10_qbz5n2kfra8p0\\localcache\\local-packages\\python310\\site-packages (from jedi>=0.16->ipython>=6.1.0->ipywidgets) (0.8.3)\n",
      "Requirement already satisfied: entrypoints in c:\\users\\chigu\\appdata\\local\\packages\\pythonsoftwarefoundation.python.3.10_qbz5n2kfra8p0\\localcache\\local-packages\\python310\\site-packages (from jupyter-client>=6.1.12->ipykernel>=4.5.1->ipywidgets) (0.4)\n",
      "Requirement already satisfied: jupyter-core>=4.9.2 in c:\\users\\chigu\\appdata\\local\\packages\\pythonsoftwarefoundation.python.3.10_qbz5n2kfra8p0\\localcache\\local-packages\\python310\\site-packages (from jupyter-client>=6.1.12->ipykernel>=4.5.1->ipywidgets) (4.11.1)\n",
      "Requirement already satisfied: python-dateutil>=2.8.2 in c:\\users\\chigu\\appdata\\local\\packages\\pythonsoftwarefoundation.python.3.10_qbz5n2kfra8p0\\localcache\\local-packages\\python310\\site-packages (from jupyter-client>=6.1.12->ipykernel>=4.5.1->ipywidgets) (2.8.2)\n",
      "Requirement already satisfied: pywin32>=1.0 in c:\\users\\chigu\\appdata\\local\\packages\\pythonsoftwarefoundation.python.3.10_qbz5n2kfra8p0\\localcache\\local-packages\\python310\\site-packages (from jupyter-core>=4.9.2->jupyter-client>=6.1.12->ipykernel>=4.5.1->ipywidgets) (304)\n",
      "Requirement already satisfied: six>=1.5 in c:\\users\\chigu\\appdata\\local\\packages\\pythonsoftwarefoundation.python.3.10_qbz5n2kfra8p0\\localcache\\local-packages\\python310\\site-packages (from python-dateutil>=2.8.2->jupyter-client>=6.1.12->ipykernel>=4.5.1->ipywidgets) (1.16.0)\n",
      "Requirement already satisfied: pyparsing!=3.0.5,>=2.0.2 in c:\\users\\chigu\\appdata\\local\\packages\\pythonsoftwarefoundation.python.3.10_qbz5n2kfra8p0\\localcache\\local-packages\\python310\\site-packages (from packaging->ipykernel>=4.5.1->ipywidgets) (3.0.9)\n",
      "Requirement already satisfied: executing in c:\\users\\chigu\\appdata\\local\\packages\\pythonsoftwarefoundation.python.3.10_qbz5n2kfra8p0\\localcache\\local-packages\\python310\\site-packages (from stack-data->ipython>=6.1.0->ipywidgets) (1.1.0)\n",
      "Requirement already satisfied: asttokens in c:\\users\\chigu\\appdata\\local\\packages\\pythonsoftwarefoundation.python.3.10_qbz5n2kfra8p0\\localcache\\local-packages\\python310\\site-packages (from stack-data->ipython>=6.1.0->ipywidgets) (2.0.8)\n",
      "Requirement already satisfied: pure-eval in c:\\users\\chigu\\appdata\\local\\packages\\pythonsoftwarefoundation.python.3.10_qbz5n2kfra8p0\\localcache\\local-packages\\python310\\site-packages (from stack-data->ipython>=6.1.0->ipywidgets) (0.2.2)\n"
     ]
    }
   ],
   "source": [
    "!pip install ipywidgets pytz"
   ]
  },
  {
   "cell_type": "code",
   "execution_count": 8,
   "id": "0ca3c70d",
   "metadata": {},
   "outputs": [],
   "source": [
    "import json\n",
    "from datetime import datetime, timedelta, date, time\n",
    "import pytz\n",
    "import ipywidgets as widgets\n",
    "from IPython.display import display, clear_output"
   ]
  },
  {
   "cell_type": "code",
   "execution_count": 9,
   "id": "4c0a480c",
   "metadata": {},
   "outputs": [],
   "source": [
    "# ---------------------- Event class ----------------------\n",
    "class Event:\n",
    "    def __init__(self, title, start, end):\n",
    "        self.title = title\n",
    "        self.start = start\n",
    "        self.end = end\n",
    "\n",
    "    def to_dict(self):\n",
    "        return {\n",
    "            \"title\": self.title,\n",
    "            \"start\": self.start.isoformat(),\n",
    "            \"end\": self.end.isoformat()\n",
    "        }"
   ]
  },
  {
   "cell_type": "code",
   "execution_count": 10,
   "id": "45bf86a5",
   "metadata": {},
   "outputs": [],
   "source": [
    "# ---------------------- Calendar App class ----------------------\n",
    "class CalendarApp:\n",
    "    def __init__(self):\n",
    "        self.events = []\n",
    "        self.load()\n",
    "\n",
    "    def load(self):\n",
    "        try:\n",
    "            with open(\"calendar.json\", \"r\") as f:\n",
    "                for e in json.load(f):\n",
    "                    self.events.append(Event(e[\"title\"], datetime.fromisoformat(e[\"start\"]), datetime.fromisoformat(e[\"end\"])))\n",
    "        except:\n",
    "            pass\n",
    "\n",
    "    def save(self):\n",
    "        with open(\"calendar.json\", \"w\") as f:\n",
    "            json.dump([e.to_dict() for e in self.events], f)\n",
    "\n",
    "    def add(self, title, start, end):\n",
    "        for e in self.events:\n",
    "            if e.start < end and start < e.end:\n",
    "                return False\n",
    "        self.events.append(Event(title, start, end))\n",
    "        self.save()\n",
    "        return True\n",
    "\n",
    "    def delete(self, title, day):\n",
    "        before = len(self.events)\n",
    "        self.events = [e for e in self.events if not (e.title == title and e.start.date() == day)]\n",
    "        self.save()\n",
    "        return len(self.events) < before\n",
    "\n",
    "    def on_day(self, day):\n",
    "        return [e for e in self.events if e.start.date() == day]\n",
    "\n",
    "    def free_slot(self, mins, day, tz):\n",
    "        t = tz.localize(datetime.combine(day, time(8, 0)))\n",
    "        end = tz.localize(datetime.combine(day, time(23, 59)))\n",
    "        while t + timedelta(minutes=mins) <= end:\n",
    "            if all(t + timedelta(minutes=mins) <= e.start or t >= e.end for e in self.events):\n",
    "                return t, t + timedelta(minutes=mins)\n",
    "            t += timedelta(minutes=15)\n",
    "        return None, None\n",
    "\n",
    "    def all_free_slots(self, mins, day, tz):\n",
    "        slots = []\n",
    "        t = tz.localize(datetime.combine(day, time(8, 0)))\n",
    "        end_of_day = tz.localize(datetime.combine(day, time(23, 59)))\n",
    "        while t + timedelta(minutes=mins) <= end_of_day:\n",
    "            candidate_end = t + timedelta(minutes=mins)\n",
    "            overlap = any(e.start < candidate_end and t < e.end for e in self.events)\n",
    "            if not overlap:\n",
    "                slots.append((t, candidate_end))\n",
    "                t = candidate_end\n",
    "            else:\n",
    "                t += timedelta(minutes=15)\n",
    "        return slots\n"
   ]
  },
  {
   "cell_type": "code",
   "execution_count": 11,
   "id": "9d63b349",
   "metadata": {
    "scrolled": false
   },
   "outputs": [
    {
     "data": {
      "application/vnd.jupyter.widget-view+json": {
       "model_id": "ce4f95c1a08c4d2982e578d769097c02",
       "version_major": 2,
       "version_minor": 0
      },
      "text/plain": [
       "HTML(value=\"<h2 style='text-align:center; color:#2c3e50; font-family:sans-serif; padding:10px; background:#e3f…"
      ]
     },
     "metadata": {},
     "output_type": "display_data"
    },
    {
     "data": {
      "application/vnd.jupyter.widget-view+json": {
       "model_id": "05ce04f2bec34b38a21874e5eff3e771",
       "version_major": 2,
       "version_minor": 0
      },
      "text/plain": [
       "Text(value='', description='Title:')"
      ]
     },
     "metadata": {},
     "output_type": "display_data"
    },
    {
     "data": {
      "application/vnd.jupyter.widget-view+json": {
       "model_id": "dd95ed016e174ed1ac788fd6b9ba6e66",
       "version_major": 2,
       "version_minor": 0
      },
      "text/plain": [
       "DatePicker(value=None, description='Date:', step=1)"
      ]
     },
     "metadata": {},
     "output_type": "display_data"
    },
    {
     "data": {
      "application/vnd.jupyter.widget-view+json": {
       "model_id": "15264a5cbfb9472790a0e0e87b228dde",
       "version_major": 2,
       "version_minor": 0
      },
      "text/plain": [
       "HBox(children=(Dropdown(description='Start Hr', index=8, options=(1, 2, 3, 4, 5, 6, 7, 8, 9, 10, 11, 12), valu…"
      ]
     },
     "metadata": {},
     "output_type": "display_data"
    },
    {
     "data": {
      "application/vnd.jupyter.widget-view+json": {
       "model_id": "2d1180f3be8d41e68cc1782df97ff80e",
       "version_major": 2,
       "version_minor": 0
      },
      "text/plain": [
       "HBox(children=(Dropdown(description='End Hr', index=9, options=(1, 2, 3, 4, 5, 6, 7, 8, 9, 10, 11, 12), value=…"
      ]
     },
     "metadata": {},
     "output_type": "display_data"
    },
    {
     "data": {
      "application/vnd.jupyter.widget-view+json": {
       "model_id": "00acd0e163664d818506ab518cf39f84",
       "version_major": 2,
       "version_minor": 0
      },
      "text/plain": [
       "Dropdown(description='Timezone:', options=(('Eastern Daylight Time (EDT)', 'US/Eastern'), ('Central Daylight T…"
      ]
     },
     "metadata": {},
     "output_type": "display_data"
    },
    {
     "data": {
      "application/vnd.jupyter.widget-view+json": {
       "model_id": "07e74932687047deb8e9ed6f78b64921",
       "version_major": 2,
       "version_minor": 0
      },
      "text/plain": [
       "Dropdown(description='Slot Size:', options=(('30 minutes', 30), ('60 minutes', 60), ('90 minutes', 90), ('120 …"
      ]
     },
     "metadata": {},
     "output_type": "display_data"
    },
    {
     "data": {
      "application/vnd.jupyter.widget-view+json": {
       "model_id": "57a00f89ab294225a3f6c05fc3f91c2c",
       "version_major": 2,
       "version_minor": 0
      },
      "text/plain": [
       "VBox(children=(HBox(children=(Button(description='Add Event', layout=Layout(height='40px', width='160px'), sty…"
      ]
     },
     "metadata": {},
     "output_type": "display_data"
    },
    {
     "data": {
      "application/vnd.jupyter.widget-view+json": {
       "model_id": "d008828fe1d0493dae95df45f79c5630",
       "version_major": 2,
       "version_minor": 0
      },
      "text/plain": [
       "HTML(value=\"<hr><h4 style='color:#c0392b; font-weight:bold;'>Delete Event</h4>\")"
      ]
     },
     "metadata": {},
     "output_type": "display_data"
    },
    {
     "data": {
      "application/vnd.jupyter.widget-view+json": {
       "model_id": "d226546168f044229747b971917fef67",
       "version_major": 2,
       "version_minor": 0
      },
      "text/plain": [
       "HBox(children=(Text(value='', description='Del Title:'), DatePicker(value=None, description='Del Date:', step=…"
      ]
     },
     "metadata": {},
     "output_type": "display_data"
    },
    {
     "data": {
      "application/vnd.jupyter.widget-view+json": {
       "model_id": "4848bcf708cf408ba11f2d3dc44102cf",
       "version_major": 2,
       "version_minor": 0
      },
      "text/plain": [
       "Output()"
      ]
     },
     "metadata": {},
     "output_type": "display_data"
    }
   ],
   "source": [
    "# ---------------------- Widgets ----------------------\n",
    "calendar = CalendarApp()\n",
    "\n",
    "# Styled title without emoji to avoid UnicodeEncodeError\n",
    "display(widgets.HTML(\n",
    "    \"<h2 style='text-align:center; color:#2c3e50; font-family:sans-serif; padding:10px; \"\n",
    "    \"background:#e3f2fd; border-radius:10px;'><b>Calendar Application</b></h2>\"\n",
    "))\n",
    "\n",
    "title = widgets.Text(description=\"Title:\")\n",
    "date_picker = widgets.DatePicker(description=\"Date:\")\n",
    "sh = widgets.Dropdown(options=list(range(1, 13)), value=9, description=\"Start Hr\")\n",
    "sm = widgets.Dropdown(options=list(range(0, 60, 5)), value=0, description=\"Min\")\n",
    "sap = widgets.Dropdown(options=[\"AM\", \"PM\"], value=\"AM\", description=\"AM/PM\")\n",
    "eh = widgets.Dropdown(options=list(range(1, 13)), value=10, description=\"End Hr\")\n",
    "em = widgets.Dropdown(options=list(range(0, 60, 5)), value=0, description=\"Min\")\n",
    "eap = widgets.Dropdown(options=[\"AM\", \"PM\"], value=\"AM\", description=\"AM/PM\")\n",
    "\n",
    "tz = widgets.Dropdown(\n",
    "    options=[\n",
    "        \n",
    "        (\"Eastern Daylight Time (EDT)\", \"US/Eastern\"),\n",
    "        (\"Central Daylight Time (CDT)\", \"US/Central\"),\n",
    "        (\"Mountain Daylight Time (MDT)\", \"US/Mountain\"),\n",
    "        (\"Pacific Daylight Time (PDT)\", \"US/Pacific\"),\n",
    "        (\"India Standard Time (IST)\", \"Asia/Kolkata\"),\n",
    "        (\"Greenwich Mean Time (GMT)\", \"Etc/GMT\")\n",
    "    ],\n",
    "    description=\"Timezone:\"\n",
    ")\n",
    "\n",
    "slot_duration = widgets.Dropdown(\n",
    "    options=[(\"30 minutes\", 30), (\"60 minutes\", 60), (\"90 minutes\", 90), (\"120 minutes\", 120), (\"150 minutes\", 150),(\"180 minutes\", 180)],\n",
    "    description=\"Slot Size:\"\n",
    ")\n",
    "\n",
    "delete_title = widgets.Text(description=\"Del Title:\")\n",
    "delete_date = widgets.DatePicker(description=\"Del Date:\")\n",
    "\n",
    "btn_layout = widgets.Layout(width='160px', height='40px', border_radius='10px')\n",
    "add_btn = widgets.Button(description=\"Add Event\", style={'button_color': '#28a745'}, layout=btn_layout)\n",
    "view_btn = widgets.Button(description=\"View Events\", style={'button_color': '#17a2b8'}, layout=btn_layout)\n",
    "slot_btn = widgets.Button(description=\"Next Slot\", style={'button_color': '#ffc107'}, layout=btn_layout)\n",
    "all_slots_btn = widgets.Button(description=\"All Free Slots\", style={'button_color': '#007bff'}, layout=btn_layout)\n",
    "remaining_btn = widgets.Button(description=\"Remaining Today\", style={'button_color': '#6f42c1'}, layout=btn_layout)\n",
    "delete_btn = widgets.Button(description=\"Delete Event\", style={'button_color': '#dc3545'}, layout=btn_layout)\n",
    "\n",
    "out = widgets.Output()\n",
    "\n",
    "def to24(h, ap):\n",
    "    return h if ap == \"AM\" and h != 12 else (h + 12 if ap == \"PM\" and h != 12 else 0)\n",
    "\n",
    "def clear_inputs():\n",
    "    title.value = \"\"\n",
    "    date_picker.value = None\n",
    "    sh.value, sm.value, sap.value = 9, 0, \"AM\"\n",
    "    eh.value, em.value, eap.value = 10, 0, \"AM\"\n",
    "\n",
    "def on_add(_):\n",
    "    with out:\n",
    "        clear_output()\n",
    "        if not date_picker.value:\n",
    "            print(\"Please select a date.\")\n",
    "            return\n",
    "        zone = pytz.timezone(tz.value)\n",
    "        s = zone.localize(datetime.combine(date_picker.value, time(to24(sh.value, sap.value), sm.value)))\n",
    "        e = zone.localize(datetime.combine(date_picker.value, time(to24(eh.value, eap.value), em.value)))\n",
    "        if s >= e:\n",
    "            print(\"End time must be after start time.\")\n",
    "            return\n",
    "        if calendar.add(title.value, s, e):\n",
    "            print(\"Event added successfully.\")\n",
    "            clear_inputs()\n",
    "        else:\n",
    "            print(\"This time overlaps with another event.\")\n",
    "\n",
    "def on_view(_):\n",
    "    with out:\n",
    "        clear_output()\n",
    "        if not date_picker.value:\n",
    "            print(\"Please select a date.\")\n",
    "            return\n",
    "        events = sorted(calendar.on_day(date_picker.value), key=lambda e: e.start)\n",
    "        if not events:\n",
    "            print(\"No events on this day.\")\n",
    "        else:\n",
    "            print(f\"Events on {date_picker.value}:\")\n",
    "            for e in events:\n",
    "                print(f\"{e.start.strftime('%I:%M %p')} - {e.end.strftime('%I:%M %p')} | {e.title}\")\n",
    "\n",
    "def on_slot(_):\n",
    "    with out:\n",
    "        clear_output()\n",
    "        if not date_picker.value:\n",
    "            print(\"Please select a date.\")\n",
    "            return\n",
    "        zone = pytz.timezone(tz.value)\n",
    "        start, end = calendar.free_slot(slot_duration.value, date_picker.value, zone)\n",
    "        if start:\n",
    "            print(f\"Next available slot: {start.strftime('%I:%M %p')} - {end.strftime('%I:%M %p')}\")\n",
    "        else:\n",
    "            print(\"No free slot available for this duration.\")\n",
    "\n",
    "def on_all_slots(_):\n",
    "    with out:\n",
    "        clear_output()\n",
    "        if not date_picker.value:\n",
    "            print(\"Please select a date.\")\n",
    "            return\n",
    "        zone = pytz.timezone(tz.value)\n",
    "        slots = calendar.all_free_slots(slot_duration.value, date_picker.value, zone)\n",
    "        if not slots:\n",
    "            print(\"No available time slots for this duration.\")\n",
    "        else:\n",
    "            print(f\"All available {slot_duration.value}-minute slots on {date_picker.value}:\")\n",
    "            for s, e in slots:\n",
    "                print(f\"{s.strftime('%I:%M %p')} - {e.strftime('%I:%M %p')}\")\n",
    "\n",
    "def on_remaining(_):\n",
    "    with out:\n",
    "        clear_output()\n",
    "        zone = pytz.timezone(tz.value)\n",
    "        now = datetime.now(pytz.utc).astimezone(zone)\n",
    "        today = now.date()\n",
    "        remaining = sorted([e for e in calendar.on_day(today) if e.start >= now], key=lambda e: e.start)\n",
    "        if not remaining:\n",
    "            print(\"No remaining events for today.\")\n",
    "        else:\n",
    "            print(f\"Remaining events for today ({today}):\")\n",
    "            for e in remaining:\n",
    "                print(f\"{e.start.strftime('%I:%M %p')} - {e.end.strftime('%I:%M %p')} | {e.title}\")\n",
    "\n",
    "def on_delete(_):\n",
    "    with out:\n",
    "        clear_output()\n",
    "        if not delete_title.value or not delete_date.value:\n",
    "            print(\"Provide title and date to delete.\")\n",
    "            return\n",
    "        if calendar.delete(delete_title.value, delete_date.value):\n",
    "            print(\"Event deleted.\")\n",
    "        else:\n",
    "            print(\"No matching event found.\")\n",
    "            \n",
    "#  buttons           \n",
    "add_btn.on_click(on_add)\n",
    "view_btn.on_click(on_view)\n",
    "slot_btn.on_click(on_slot)\n",
    "all_slots_btn.on_click(on_all_slots)\n",
    "remaining_btn.on_click(on_remaining)\n",
    "delete_btn.on_click(on_delete)\n",
    "\n",
    "\n",
    "# UI\n",
    "display(title, date_picker)\n",
    "display(widgets.HBox([sh, sm, sap]))\n",
    "display(widgets.HBox([eh, em, eap]))\n",
    "display(tz, slot_duration)\n",
    "display(widgets.VBox([\n",
    "    widgets.HBox([add_btn, view_btn, slot_btn]),\n",
    "    widgets.HBox([all_slots_btn, remaining_btn, delete_btn])\n",
    "]))\n",
    "\n",
    "display(widgets.HTML(\"<hr><h4 style='color:#c0392b; font-weight:bold;'>Delete Event</h4>\"))\n",
    "display(widgets.HBox([delete_title, delete_date]))\n",
    "\n",
    "display(out)\n"
   ]
  },
  {
   "cell_type": "code",
   "execution_count": null,
   "id": "3814569c",
   "metadata": {},
   "outputs": [],
   "source": []
  }
 ],
 "metadata": {
  "kernelspec": {
   "display_name": "Python 3 (ipykernel)",
   "language": "python",
   "name": "python3"
  },
  "language_info": {
   "codemirror_mode": {
    "name": "ipython",
    "version": 3
   },
   "file_extension": ".py",
   "mimetype": "text/x-python",
   "name": "python",
   "nbconvert_exporter": "python",
   "pygments_lexer": "ipython3",
   "version": "3.10.11"
  }
 },
 "nbformat": 4,
 "nbformat_minor": 5
}
